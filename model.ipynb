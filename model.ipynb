{
 "cells": [
  {
   "cell_type": "markdown",
   "metadata": {},
   "source": [
    "# Model operationalization via s2i\n",
    "\n",
    "It's possible to use [s2i](https://github.com/openshift/source-to-image) to operationalize models that have been trained in a notebook.  The relevant builder image is [here](https://github.com/willb/simple-model-s2i); it works best if you follow some basic conventions.  The rest of this notebook will demonstrate these conventions with a simple example.\n",
    "\n",
    "## requirements\n",
    "\n",
    "The first convention to follow is declaring your model's requirements as a list of lists in a variable called `requirements`.  The s2i builder will use these to generate a `requirements.txt` file, which it will install while building an image.  This step is optional, but it is necessary if your model will depend on any libraries."
   ]
  },
  {
   "cell_type": "code",
   "execution_count": 12,
   "metadata": {},
   "outputs": [],
   "source": [
    "requirements = [[\"numpy\", \"1.15\"], [\"scikit-learn\", \"0.19.2\"], [\"scipy\", \"1.0.1\"]]"
   ]
  },
  {
   "cell_type": "markdown",
   "metadata": {},
   "source": [
    "## model code\n",
    "\n",
    "Your model training code can just appear in this notebook as it would in any other.  Note that the s2i build process will execute every cell in the notebook in order."
   ]
  },
  {
   "cell_type": "code",
   "execution_count": 11,
   "metadata": {},
   "outputs": [],
   "source": [
    "import numpy as np\n",
    "from sklearn.cluster import KMeans"
   ]
  },
  {
   "cell_type": "code",
   "execution_count": 10,
   "metadata": {
    "scrolled": true
   },
   "outputs": [],
   "source": [
    "DIMENSIONS = 2\n",
    "randos = np.random.random((40000,DIMENSIONS))"
   ]
  },
  {
   "cell_type": "code",
   "execution_count": 21,
   "metadata": {},
   "outputs": [],
   "source": [
    "kmodel = KMeans(n_clusters=7).fit(randos)"
   ]
  },
  {
   "cell_type": "code",
   "execution_count": 17,
   "metadata": {},
   "outputs": [
    {
     "data": {
      "text/plain": [
       "KMeans(algorithm='auto', copy_x=True, init='k-means++', max_iter=300,\n",
       "    n_clusters=2, n_init=10, n_jobs=1, precompute_distances='auto',\n",
       "    random_state=None, tol=0.0001, verbose=0)"
      ]
     },
     "execution_count": 17,
     "metadata": {},
     "output_type": "execute_result"
    }
   ],
   "source": [
    "kmodel"
   ]
  },
  {
   "cell_type": "markdown",
   "metadata": {},
   "source": [
    "## validate and predict\n",
    "\n",
    "Given a trained model, you simply need to provide two functions:\n",
    "\n",
    "* `predictor`, which will make a single prediction from a single sample, and\n",
    "* `validator`, which will return `True` if a single sample is of the correct type."
   ]
  },
  {
   "cell_type": "code",
   "execution_count": 26,
   "metadata": {},
   "outputs": [],
   "source": [
    "def predictor(x):\n",
    "    kmodel.predict([x])"
   ]
  },
  {
   "cell_type": "markdown",
   "metadata": {},
   "source": [
    "`validator` is optional, but it will make your model service easier to use.  If you don't provide one, your model service will accept any input, which will likely lead to confusing error messages (i.e., crashes somewhere in the `predictor`) if your model service is called with bogus input."
   ]
  },
  {
   "cell_type": "code",
   "execution_count": 27,
   "metadata": {},
   "outputs": [],
   "source": [
    "def validator(x):\n",
    "    return len(x) == DIMENSIONS"
   ]
  },
  {
   "cell_type": "code",
   "execution_count": null,
   "metadata": {},
   "outputs": [],
   "source": []
  }
 ],
 "metadata": {
  "kernelspec": {
   "display_name": "Python (myenv)",
   "language": "python",
   "name": "myenv"
  },
  "language_info": {
   "codemirror_mode": {
    "name": "ipython",
    "version": 3
   },
   "file_extension": ".py",
   "mimetype": "text/x-python",
   "name": "python",
   "nbconvert_exporter": "python",
   "pygments_lexer": "ipython3",
   "version": "3.6.5"
  }
 },
 "nbformat": 4,
 "nbformat_minor": 2
}
